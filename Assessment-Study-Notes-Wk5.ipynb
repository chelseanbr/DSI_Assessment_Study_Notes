{
 "cells": [
  {
   "cell_type": "markdown",
   "metadata": {},
   "source": [
    "# Week 5: Supervised Learning and Regression\n"
   ]
  },
  {
   "cell_type": "markdown",
   "metadata": {},
   "source": [
    "### <a id='Table-of-Contents'>Table of Contents</a>\n",
    "\n",
    "#### [1.1) KNN](#1.1-knn)\n",
    "\n",
    "#### [1.2) Cross Validation](#1.2-cross-validation)\n",
    "\n",
    "#### [2.1) Linear Regression Intro](#2.1-linear-regression-intro)\n",
    "\n",
    "#### [2.2) Predictive Linear Regression](#2.2-predictive-linear-regression)\n",
    "\n",
    "#### [3.1) Regularized Regression](#3.1-Regularized-Regression)\n",
    "\n",
    "#### [3.2) Inferential Regression](#3.2-Inferential-Regression)\n",
    "\n",
    "#### [4.1) Logistic Regression](#4.1-Logistic-Regression)\n",
    "\n",
    "#### [4.2) Classification Measures of Effectiveness](#4.2-Classification-Measures-of-Effectiveness)\n",
    "___\n",
    "#### [Assessment 4](#Assessment-4)"
   ]
  },
  {
   "cell_type": "markdown",
   "metadata": {},
   "source": [
    "## <a id='1.1-knn'>1.1) KNN</a>\n",
    "### k Nearest Neighbors"
   ]
  },
  {
   "cell_type": "markdown",
   "metadata": {},
   "source": [
    "#### Key Concepts\n",
    "* non-parametric\n",
    "* pseudocode for KNN:\n",
    "```\n",
    "Calculate the distances from each data point to x\n",
    "Order the points by distance from lowest to highest\n",
    "The first k points are the \"k nearest neighbors\"\n",
    "Return a prediction:\n",
    "    If this is a classification problem (y is categorical):\n",
    "        return the most common label among the k nearest neighbors\n",
    "    If this is a regression problem (y is continuous):\n",
    "        return the mean of the y values of the k nearest neighbors\n",
    "```\n",
    "* **similarity: s(p1,p2) = $\\frac{1}{1 + d(p1,p2)}$**\n",
    "    * Cosine Similarity\n",
    "    > s(a,b) = $\\frac{a \\cdot b}{||a|| \\times ||b||}$ = $\\frac{\\sum_{i=1}^{N} a_i b_i}{\\sqrt{\\sum_{i=1}^{N} a_i^2}\\sqrt{\\sum_{i=1}^{N} b_i^2}}$\n",
    "    * Jaccard Similarity\n",
    "* **distance: d(p1,p2) = 1 − s(p1,p2)**\n",
    "    * Euclidean Distance, or L2 norm\n",
    "    > d(a,b) = ||a - b|| = $\\sqrt{\\sum_{i=1}^{N} (a_i - b_i)^2}$\n",
    "    * Manhattan Distance, or L1 norm\n",
    "    > d(a,b) = $\\sum_{i=1}^{N} |a_i - b_i|$\n",
    "    * Minkowski Distance, a generalized form\n",
    "    > d(a,b) = $(\\sum_{i=1}^{N} (a_i - b_i)^p)^{1/p}$\n",
    "    \n",
    "* **curse of dimensionality**\n",
    "> As the # of features or dimensions grows, the amount of data we need to generalize accurately grows exponentially."
   ]
  },
  {
   "cell_type": "markdown",
   "metadata": {},
   "source": [
    "[Table of Contents](#Table-of-Contents)"
   ]
  },
  {
   "cell_type": "markdown",
   "metadata": {},
   "source": [
    "## <a id='1.2-cross-validation'>1.2) Cross Validation</a>"
   ]
  },
  {
   "cell_type": "markdown",
   "metadata": {},
   "source": [
    "[Table of Contents](#Table-of-Contents)"
   ]
  },
  {
   "cell_type": "markdown",
   "metadata": {},
   "source": [
    "## <a id='2.1-linear-regression-intro'>2.1) Linear Regression Intro</a>"
   ]
  },
  {
   "cell_type": "markdown",
   "metadata": {},
   "source": [
    "[Table of Contents](#Table-of-Contents)"
   ]
  },
  {
   "cell_type": "markdown",
   "metadata": {},
   "source": [
    "## <a id='2.2-predictive-linear-regression'>2.2) Predictive Linear Regression</a>"
   ]
  },
  {
   "cell_type": "markdown",
   "metadata": {},
   "source": [
    "[Table of Contents](#Table-of-Contents)"
   ]
  },
  {
   "cell_type": "markdown",
   "metadata": {},
   "source": [
    "## <a id='3.1-Regularized-Regression'>3.1) Regularized Regression</a>"
   ]
  },
  {
   "cell_type": "markdown",
   "metadata": {},
   "source": [
    "[Table of Contents](#Table-of-Contents)"
   ]
  },
  {
   "cell_type": "markdown",
   "metadata": {},
   "source": [
    "## <a id='3.2-Inferential-Regression'>3.2) Inferential Regression</a>"
   ]
  },
  {
   "cell_type": "markdown",
   "metadata": {},
   "source": [
    "[Table of Contents](#Table-of-Contents)"
   ]
  },
  {
   "cell_type": "markdown",
   "metadata": {},
   "source": [
    "## <a id='4.1-Logistic-Regression'>4.1) Logistic Regression</a>"
   ]
  },
  {
   "cell_type": "markdown",
   "metadata": {},
   "source": [
    "[Table of Contents](#Table-of-Contents)"
   ]
  },
  {
   "cell_type": "markdown",
   "metadata": {},
   "source": [
    "## <a id='4.2-Classification-Measures-of-Effectiveness'>4.2) Classification Measures of Effectiveness</a>"
   ]
  },
  {
   "cell_type": "markdown",
   "metadata": {},
   "source": [
    "[Table of Contents](#Table-of-Contents)"
   ]
  },
  {
   "cell_type": "markdown",
   "metadata": {},
   "source": [
    "___"
   ]
  },
  {
   "cell_type": "markdown",
   "metadata": {},
   "source": [
    "## <a id='Assessment-4'>Assessment 4</a>"
   ]
  },
  {
   "cell_type": "markdown",
   "metadata": {},
   "source": [
    "[Table of Contents](#Table-of-Contents)"
   ]
  }
 ],
 "metadata": {
  "kernelspec": {
   "display_name": "Python 3",
   "language": "python",
   "name": "python3"
  },
  "language_info": {
   "codemirror_mode": {
    "name": "ipython",
    "version": 3
   },
   "file_extension": ".py",
   "mimetype": "text/x-python",
   "name": "python",
   "nbconvert_exporter": "python",
   "pygments_lexer": "ipython3",
   "version": "3.7.4"
  }
 },
 "nbformat": 4,
 "nbformat_minor": 2
}
