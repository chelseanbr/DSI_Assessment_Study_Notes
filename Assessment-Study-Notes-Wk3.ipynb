{
 "cells": [
  {
   "cell_type": "code",
   "execution_count": 4,
   "metadata": {},
   "outputs": [],
   "source": [
    "import scipy.stats as stats\n",
    "import math\n",
    "import matplotlib.pyplot as plt\n",
    "import numpy as np\n",
    "import pandas as pd\n",
    "%matplotlib inline"
   ]
  },
  {
   "cell_type": "markdown",
   "metadata": {},
   "source": [
    "# Assessment Study Notes Wk3\n",
    "\n",
    "### 1. Docker\n",
    "### 2. AWS\n",
    "### 3. SQL\n",
    "### 4. Python SQL\n",
    "### 5. Mongo DB\n",
    "### 6. Web Scraping\n",
    "### 7. Spark RDDs\n",
    "### 8. Spark SQL"
   ]
  },
  {
   "attachments": {},
   "cell_type": "markdown",
   "metadata": {},
   "source": [
    "## Docker\n",
    "> Docker is a platform for developers and sysadmins to **develop, deploy, and run** applications with containers.\n",
    "\n",
    "* **Docker vs Vagrant**: Docker doesn't have OS inside container, just sits on top...*(confirm)*\n",
    "* **image** includes everything needed to run an app\n",
    "* **container** is a runtime instance of an image\n",
    "\n"
   ]
  },
  {
   "attachments": {},
   "cell_type": "markdown",
   "metadata": {},
   "source": [
    "```\n",
    "# list containers, images\n",
    "docker container ls\n",
    "docker image ls\n",
    "\n",
    "# container removal\n",
    "docker stop (container-name)\n",
    "docker container rm (container-name)\n",
    "\n",
    "# or force removal without stopping\n",
    "docker container rm (container) -f\n",
    "\n",
    "# flags\n",
    "-d #detached, to keep container even upon exit\n",
    "-p #port, example: \"-p 8081:80\", to interact with\n",
    "\n",
    "exit #to exit\n",
    "```\n",
    "#### Map Folder with Volumes\n",
    "```\n",
    "# Let’s try it for nginx\n",
    "dck run -d -p 8085:80 --name my-nginx-2 -v $(pwd):/usr/share/nginx/html nginx \n",
    "# make file in $(pwd) after adding volume in container\n",
    "touch index.html\n",
    "# then check inside container\n",
    "dck container exec -it my-nginx-2 bash\n",
    "cd /usr/share/nginx/html\n",
    "ls # should now show sahred file index.html\n",
    "```\n",
    "\n",
    "#### Other Useful Commands\n",
    "```\n",
    "\n",
    "```"
   ]
  },
  {
   "cell_type": "code",
   "execution_count": null,
   "metadata": {},
   "outputs": [],
   "source": []
  }
 ],
 "metadata": {
  "kernelspec": {
   "display_name": "Python 3",
   "language": "python",
   "name": "python3"
  },
  "language_info": {
   "codemirror_mode": {
    "name": "ipython",
    "version": 3
   },
   "file_extension": ".py",
   "mimetype": "text/x-python",
   "name": "python",
   "nbconvert_exporter": "python",
   "pygments_lexer": "ipython3",
   "version": "3.7.4"
  }
 },
 "nbformat": 4,
 "nbformat_minor": 2
}
