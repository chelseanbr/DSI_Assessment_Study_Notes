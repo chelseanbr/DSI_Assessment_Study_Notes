{
 "cells": [
  {
   "cell_type": "code",
   "execution_count": 1,
   "metadata": {},
   "outputs": [],
   "source": [
    "import scipy.stats as stats\n",
    "import math\n",
    "import matplotlib.pyplot as plt\n",
    "import numpy as np\n",
    "import pandas as pd\n",
    "%matplotlib inline"
   ]
  },
  {
   "cell_type": "markdown",
   "metadata": {},
   "source": [
    "# Assessment Study Notes Wk3\n",
    "\n",
    "### 1. Docker\n",
    "* *Finished assignment*\n",
    "* **TODO: Review & try extra credit?**\n",
    "\n",
    "### 2. AWS\n",
    "* *Finished assignment*\n",
    "\n",
    "### 3. SQL\n",
    "### 4. Python SQL\n",
    "### 5. Mongo DB\n",
    "### 6. Web Scraping\n",
    "### 7. Spark RDDs\n",
    "### 8. Spark SQL"
   ]
  },
  {
   "cell_type": "markdown",
   "metadata": {},
   "source": [
    "## 1. Docker\n",
    "> Docker is a platform for developers and sysadmins to **develop, deploy, and run** applications with containers.\n",
    "\n",
    "* **Docker vs Vagrant**: Docker doesn't have OS inside container, just sits on top...*(confirm)*\n",
    "* **image** includes everything needed to run an app\n",
    "* **container** is a runtime instance of an image\n",
    "\n",
    "\n",
    "\n",
    "```\n",
    "# list containers, images\n",
    "docker container ls\n",
    "docker image ls\n",
    "\n",
    "# container removal\n",
    "docker stop (container-name)\n",
    "docker container rm (container-name)\n",
    "\n",
    "# or force removal without stopping\n",
    "docker container rm (container) -f\n",
    "\n",
    "# flags\n",
    "-d #detached, to keep container even upon exit\n",
    "-p #port, example: \"-p 8081:80\", to interact with\n",
    "\n",
    "exit #to exit\n",
    "```\n",
    "#### Map Folder with Volumes\n",
    "```\n",
    "# Let’s try it for nginx\n",
    "dck run -d -p 8085:80 --name my-nginx-2 -v $(pwd):/usr/share/nginx/html nginx \n",
    "# make file in $(pwd) after adding volume in container\n",
    "touch index.html\n",
    "# then check inside container\n",
    "dck container exec -it my-nginx-2 bash\n",
    "cd /usr/share/nginx/html\n",
    "ls # should now show sahred file index.html\n",
    "```\n",
    "\n",
    "#### Other Useful Commands\n",
    "```\n",
    "\n",
    "```"
   ]
  },
  {
   "cell_type": "markdown",
   "metadata": {},
   "source": [
    "## 2. AWS"
   ]
  },
  {
   "cell_type": "code",
   "execution_count": 2,
   "metadata": {
    "collapsed": true
   },
   "outputs": [
    {
     "ename": "NameError",
     "evalue": "name 'local_file_name' is not defined",
     "output_type": "error",
     "traceback": [
      "\u001b[0;31m---------------------------------------------------------------------------\u001b[0m",
      "\u001b[0;31mNameError\u001b[0m                                 Traceback (most recent call last)",
      "\u001b[0;32m<ipython-input-2-8451ed0f492e>\u001b[0m in \u001b[0;36m<module>\u001b[0;34m\u001b[0m\n\u001b[1;32m      2\u001b[0m \u001b[0ms3\u001b[0m \u001b[0;34m=\u001b[0m \u001b[0mboto3\u001b[0m\u001b[0;34m.\u001b[0m\u001b[0mclient\u001b[0m\u001b[0;34m(\u001b[0m\u001b[0;34m's3'\u001b[0m\u001b[0;34m)\u001b[0m\u001b[0;34m\u001b[0m\u001b[0;34m\u001b[0m\u001b[0m\n\u001b[1;32m      3\u001b[0m \u001b[0;34m\u001b[0m\u001b[0m\n\u001b[0;32m----> 4\u001b[0;31m s3.upload_file(Filename=local_file_name, \n\u001b[0m\u001b[1;32m      5\u001b[0m                \u001b[0mBucket\u001b[0m\u001b[0;34m=\u001b[0m\u001b[0mbucket_name\u001b[0m\u001b[0;34m,\u001b[0m\u001b[0;34m\u001b[0m\u001b[0;34m\u001b[0m\u001b[0m\n\u001b[1;32m      6\u001b[0m                Key=remote_file_name)\n",
      "\u001b[0;31mNameError\u001b[0m: name 'local_file_name' is not defined"
     ]
    }
   ],
   "source": [
    "import boto3\n",
    "s3 = boto3.client('s3')\n",
    "\n",
    "s3.upload_file(Filename=local_file_name, \n",
    "               Bucket=bucket_name, \n",
    "               Key=remote_file_name)\n",
    "\n",
    "response = s3.get_object(Bucket=bucket_name,\n",
    "                         Key=remote_file_name)\n",
    "\n",
    "s3.download_file(Bucket=bucket_name,\n",
    "                 Key=remote_file_name,\n",
    "                 Filename=\"downloaded-\" + local_file_name)"
   ]
  },
  {
   "cell_type": "markdown",
   "metadata": {},
   "source": [
    "## 3. SQL"
   ]
  },
  {
   "cell_type": "markdown",
   "metadata": {},
   "source": [
    "## 4. Python SQL"
   ]
  }
 ],
 "metadata": {
  "kernelspec": {
   "display_name": "Python 3",
   "language": "python",
   "name": "python3"
  },
  "language_info": {
   "codemirror_mode": {
    "name": "ipython",
    "version": 3
   },
   "file_extension": ".py",
   "mimetype": "text/x-python",
   "name": "python",
   "nbconvert_exporter": "python",
   "pygments_lexer": "ipython3",
   "version": "3.7.4"
  }
 },
 "nbformat": 4,
 "nbformat_minor": 2
}
