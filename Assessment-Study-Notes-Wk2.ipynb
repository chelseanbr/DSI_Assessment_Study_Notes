{
 "cells": [
  {
   "cell_type": "code",
   "execution_count": 1,
   "metadata": {},
   "outputs": [],
   "source": [
    "import scipy.stats as stats\n",
    "import math\n",
    "import matplotlib.pyplot as plt\n",
    "import numpy as np\n",
    "import pandas as pd\n",
    "%matplotlib inline"
   ]
  },
  {
   "cell_type": "markdown",
   "metadata": {},
   "source": [
    "# Assessment Study Notes Wk2"
   ]
  },
  {
   "cell_type": "markdown",
   "metadata": {},
   "source": [
    "### 1. Probability Distributions\n",
    "* *DONE: Complete Assignment & Review Solns - 3/28*\n",
    "* **TODO: Review distributions & how to draw from/plot - 3/29**\n",
    "    * How to use stats.expon()?? with certain lambda\n",
    "\n",
    "### 2. Binomial Tests\n",
    "* **TODO: Complete Assignment & Review Solns - 3/28**\n",
    "\n",
    "### 3. Sampling Distributions\n",
    "* **TODO: Complete Assignment & Review Solns - 3/28**\n",
    "\n",
    "### 4. Law of Large Numbers\n",
    "* **TODO: Complete Assignment & Review Solns - 3/28**\n",
    "\n",
    "### 5. Central Limit Theorem\n",
    "* **TODO: Complete Assignment & Review Solns - 3/28**\n",
    "\n",
    "### 6. Maximum Likelihood Estimation\n",
    "* **TODO: Complete Assignment & Review Solns - 3/29**\n",
    "\n",
    "### 7. Hypothesis Testing\n",
    "* **TODO: Complete Assignment & Review Solns - 3/29**\n",
    "\n",
    "### 8. Power Calculation\n",
    "* **TODO: Complete Assignment & Review Solns - 3/29**\n",
    "\n",
    "### 9. Bayesian Inference\n",
    "* *DONE: Complete Assignment & Review Solns - 3/28*\n",
    "* **TODO: Extra Credit - 3/29**\n",
    "\n",
    "### 10. Bayesian Testing\n",
    "* **TODO: Complete Assignment & Review Solns - 3/29**\n"
   ]
  },
  {
   "cell_type": "markdown",
   "metadata": {},
   "source": [
    "## 1. Probability Distributions \n",
    "* Bernoulli \n",
    "* Binomial\n",
    "* Hypergeometric\n",
    "* Poisson\n",
    "* Uniform\n",
    "* Normal\n",
    "* Exponential\n",
    "* Gamma\n",
    "* Geometric\n",
    "* Beta\n",
    "\n",
    "### Summary Table\n",
    "| Distribution | Continuous/Discrete| Description | Parameters | Scipy |\n",
    "| --- | --- | --- | --- | -- |\n",
    "| Bernoulli | Discrete | single coin flip | $p$ is probability of success (heads = 1) | stats.bernoulli(p) |\n",
    "| Binomial | Discrete | flipping coin some number of times | $n$ is number of flips, $p$ is probability of success (heads = 1) | stats.binom(n, p) |\n",
    "| Hypergeometric | Discrete | deck of $M$ cards of two types (say $M-n$ red cards and $n$ blue cards) | $M$ is total number (cards), $n$ is total number of certain thing (blue cards only), $N$ is amount drawn| stats.hypergeom(M, n, N) |\n",
    "| Poisson | Discrete | events happen at a fixed **rate or frequency** | lambda | stats.poisson(mu) |\n",
    "| Uniform | Continuous (or Discrete) | fair die rolls | $b - a$ = num outcomes | stats.uniform(a, b - a) |\n",
    "| Normal | Continuous | bell shape, CTL | mean (mu), variance (sigma) | stats.norm(mu, sigma) |\n",
    "| Exponential | Continuous | related to Poisson, amount of time until 1st event | $lambda$ is rate event occurs | stats.expon(loc=lambda) |\n",
    "| Gamma | Continuous | related to Exponential, amount of time until k events | $k$ is num events, $theta$ is rate events occur |  |\n",
    "| Geometric |  |  |  |  |\n",
    "| Beta |  |  |  |  |\n"
   ]
  },
  {
   "cell_type": "code",
   "execution_count": 3,
   "metadata": {},
   "outputs": [
    {
     "data": {
      "text/plain": [
       "<scipy.stats._distn_infrastructure.rv_frozen at 0x1a177bd9d0>"
      ]
     },
     "execution_count": 3,
     "metadata": {},
     "output_type": "execute_result"
    },
    {
     "data": {
      "text/plain": [
       "<scipy.stats._distn_infrastructure.rv_frozen at 0x1a17764110>"
      ]
     },
     "execution_count": 3,
     "metadata": {},
     "output_type": "execute_result"
    },
    {
     "data": {
      "text/plain": [
       "<scipy.stats._distn_infrastructure.rv_frozen at 0x1a17764e90>"
      ]
     },
     "execution_count": 3,
     "metadata": {},
     "output_type": "execute_result"
    },
    {
     "data": {
      "text/plain": [
       "<scipy.stats._distn_infrastructure.rv_frozen at 0x1a177bdd90>"
      ]
     },
     "execution_count": 3,
     "metadata": {},
     "output_type": "execute_result"
    },
    {
     "data": {
      "text/plain": [
       "<scipy.stats._distn_infrastructure.rv_frozen at 0x1a177bdfd0>"
      ]
     },
     "execution_count": 3,
     "metadata": {},
     "output_type": "execute_result"
    }
   ],
   "source": [
    "stats.binom(n=1, p=0.5)\n",
    "stats.bernoulli(p=0.5)\n",
    "stats.uniform(loc=0, scale=1)\n",
    "stats.poisson(mu=1) \n",
    "stats.expon(loc=1) "
   ]
  },
  {
   "cell_type": "markdown",
   "metadata": {},
   "source": [
    "## 2. Binomial Tests"
   ]
  },
  {
   "cell_type": "markdown",
   "metadata": {},
   "source": [
    "## 3. Sampling Distributions"
   ]
  },
  {
   "cell_type": "markdown",
   "metadata": {},
   "source": [
    "## 4. Law of Large Numbers"
   ]
  },
  {
   "cell_type": "markdown",
   "metadata": {},
   "source": [
    "## 5. Central Limit Theorem"
   ]
  },
  {
   "cell_type": "markdown",
   "metadata": {},
   "source": [
    "## 6. Maximum Likelihood Estimation"
   ]
  },
  {
   "cell_type": "markdown",
   "metadata": {},
   "source": [
    "## 7. Hypothesis Testing"
   ]
  },
  {
   "cell_type": "markdown",
   "metadata": {},
   "source": [
    "## 8. Power Calculation"
   ]
  },
  {
   "cell_type": "markdown",
   "metadata": {},
   "source": [
    "## 9. Bayesian Inference"
   ]
  },
  {
   "cell_type": "markdown",
   "metadata": {},
   "source": [
    "## 10. Bayesian Testing"
   ]
  }
 ],
 "metadata": {
  "kernelspec": {
   "display_name": "Python 3",
   "language": "python",
   "name": "python3"
  },
  "language_info": {
   "codemirror_mode": {
    "name": "ipython",
    "version": 3
   },
   "file_extension": ".py",
   "mimetype": "text/x-python",
   "name": "python",
   "nbconvert_exporter": "python",
   "pygments_lexer": "ipython3",
   "version": "3.7.4"
  }
 },
 "nbformat": 4,
 "nbformat_minor": 2
}
